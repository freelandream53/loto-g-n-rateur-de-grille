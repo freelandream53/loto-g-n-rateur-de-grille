{
 "cells": [
  {
   "cell_type": "code",
   "execution_count": 1,
   "id": "8aee1085-f04b-4a10-8f0c-79885d747c32",
   "metadata": {},
   "outputs": [
    {
     "name": "stdout",
     "output_type": "stream",
     "text": [
      "Tirage 1: [42, 49, 24, 25, 23] (similitude maximale: 0)\n",
      "Tirage 2: [45, 26, 10, 37, 17] (similitude maximale: 0)\n",
      "Tirage 3: [47, 12, 40, 30, 16] (similitude maximale: 0)\n",
      "Tirage 4: [50, 9, 35, 38, 41] (similitude maximale: 0)\n",
      "Tirage 5: [21, 11, 43, 1, 4] (similitude maximale: 0)\n",
      "Tirage 6: [13, 7, 20, 18, 8] (similitude maximale: 0)\n",
      "Tirage 7: [29, 39, 32, 28, 2] (similitude maximale: 0)\n",
      "Tirage 8: [19, 5, 48, 34, 15] (similitude maximale: 0)\n",
      "Tirage 9: [31, 6, 36, 3, 46] (similitude maximale: 0)\n",
      "Tirage 10: [14, 44, 27, 33, 22] (similitude maximale: 0)\n"
     ]
    }
   ],
   "source": [
    "import csv\n",
    "import random\n",
    "import requests\n",
    "import numpy as np\n",
    "import pandas as pd\n",
    "\n",
    "\n",
    "# Création d'une liste de nombres de 1 à 50\n",
    "numbers = list(range(1, 51))\n",
    "\n",
    "# Chargement des tirages existants dans un dictionnaire\n",
    "drawn_numbers_dict = {}\n",
    "df_tirage = pd.read_csv('lota.csv')\n",
    "df_tirage = pd.concat([df_tirage, df_tirage.apply(lambda row : pd.Series(np.sort(row[2:-1])[:4]), axis=1)], axis=1)\n",
    "\n",
    "\n",
    "\n",
    "# Tirage au sort de 10 lots de 5 nombres\n",
    "for i in range(10):\n",
    "    # Tirage au sort de 5 nombres\n",
    "    drawn_numbers = []\n",
    "    for j in range(5):\n",
    "        # Tirage au sort d'un nombre\n",
    "        drawn_number = random.choice(numbers)\n",
    "        # Ajout du nombre tiré à la liste des nombres tirés\n",
    "        drawn_numbers.append(drawn_number)\n",
    "        # Suppression du nombre tiré de la liste des nombres restants\n",
    "        numbers.remove(drawn_number)\n",
    "\n",
    "    # Vérification de la similitude avec les tirages existants\n",
    "    similarity = 0\n",
    "    for drawn_numbers_key, drawn_numbers_value in drawn_numbers_dict.items():\n",
    "        # Conversion des nombres en entiers\n",
    "        drawn_numbers_int = [int(x) for x in drawn_numbers_value]\n",
    "        # Calcul du nombre de nombres communs entre les tirages\n",
    "        common_numbers = len(set(drawn_numbers).intersection(drawn_numbers_int))\n",
    "        # Mise à jour de la similitude\n",
    "        similarity = max(similarity, common_numbers)\n",
    "        \n",
    "        for index, row in df_tirage.iterrows():\n",
    "            drawn_numbers_dict[index] = [row['num0'], row['num1'], row['num2'], row['num3'], row['num4']]\n",
    "\n",
    "    print(f\"Tirage {i+1}: {drawn_numbers} (similitude maximale: {similarity})\")\n"
   ]
  }
 ],
 "metadata": {
  "kernelspec": {
   "display_name": "Python 3 (ipykernel)",
   "language": "python",
   "name": "python3"
  },
  "language_info": {
   "codemirror_mode": {
    "name": "ipython",
    "version": 3
   },
   "file_extension": ".py",
   "mimetype": "text/x-python",
   "name": "python",
   "nbconvert_exporter": "python",
   "pygments_lexer": "ipython3",
   "version": "3.9.13"
  }
 },
 "nbformat": 4,
 "nbformat_minor": 5
}
